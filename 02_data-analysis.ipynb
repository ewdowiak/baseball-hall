{
 "cells": [
  {
   "cell_type": "markdown",
   "metadata": {},
   "source": [
    "##  Predicting Baseball Hall of Fame Induction\n",
    "\n",
    "###  Data Analysis\n",
    "\n",
    "####  Eryk Wdowiak and Ken Hoffman\n",
    "\n",
    "data from Lahman Baseball Database"
   ]
  },
  {
   "cell_type": "markdown",
   "metadata": {},
   "source": [
    "# Catchers"
   ]
  },
  {
   "cell_type": "markdown",
   "metadata": {},
   "source": [
    "## Modeling"
   ]
  },
  {
   "cell_type": "code",
   "execution_count": 1,
   "metadata": {},
   "outputs": [],
   "source": [
    "import warnings\n",
    "# warnings.filterwarnings('ignore',category=RuntimeWarning)\n",
    "\n",
    "import numpy as np\n",
    "import pandas as pd\n",
    "from sklearn.linear_model import LogisticRegression \n",
    "from sklearn.tree import DecisionTreeClassifier\n",
    "from sklearn.ensemble import BaggingClassifier, RandomForestClassifier, VotingClassifier\n",
    "from sklearn.model_selection import train_test_split\n",
    "from sklearn.metrics import f1_score, accuracy_score\n",
    "\n",
    "from sklearn import metrics \n",
    "\n",
    "\n",
    "from matplotlib import pyplot as plt\n",
    "pd.set_option('display.max_columns', 500)\n",
    "\n",
    "\n",
    "from imblearn.over_sampling import SMOTE\n",
    "\n",
    "# import matplotlib.pyplot as plt\n",
    "# %matplotlib inline"
   ]
  },
  {
   "cell_type": "code",
   "execution_count": 2,
   "metadata": {},
   "outputs": [],
   "source": [
    "#import dataframe\n",
    "df = pd.read_pickle('catchers-df_2020-08-19a.p')"
   ]
  },
  {
   "cell_type": "code",
   "execution_count": 3,
   "metadata": {
    "scrolled": true
   },
   "outputs": [],
   "source": [
    "df['AVG'] = df['H']/df['AB']\n",
    "df['OBP'] = (df['H'] + df['BB'] + df['HBP'])/(df['AB']+df['BB'] + df['HBP'] + df['SH'])"
   ]
  },
  {
   "cell_type": "code",
   "execution_count": 4,
   "metadata": {},
   "outputs": [],
   "source": [
    "df = df.drop(['bCS', 'SH', 'HBP', 'bCS_ps', 'SH_ps', 'HBP_ps', 'teamID'], axis=1)"
   ]
  },
  {
   "cell_type": "code",
   "execution_count": 5,
   "metadata": {},
   "outputs": [
    {
     "data": {
      "text/html": [
       "<div>\n",
       "<style scoped>\n",
       "    .dataframe tbody tr th:only-of-type {\n",
       "        vertical-align: middle;\n",
       "    }\n",
       "\n",
       "    .dataframe tbody tr th {\n",
       "        vertical-align: top;\n",
       "    }\n",
       "\n",
       "    .dataframe thead th {\n",
       "        text-align: right;\n",
       "    }\n",
       "</style>\n",
       "<table border=\"1\" class=\"dataframe\">\n",
       "  <thead>\n",
       "    <tr style=\"text-align: right;\">\n",
       "      <th></th>\n",
       "      <th>playerID</th>\n",
       "      <th>bG</th>\n",
       "      <th>AB</th>\n",
       "      <th>R</th>\n",
       "      <th>H</th>\n",
       "      <th>2B</th>\n",
       "      <th>3B</th>\n",
       "      <th>HR</th>\n",
       "      <th>RBI</th>\n",
       "      <th>bSB</th>\n",
       "      <th>BB</th>\n",
       "      <th>SO</th>\n",
       "      <th>bG_ps</th>\n",
       "      <th>AB_ps</th>\n",
       "      <th>R_ps</th>\n",
       "      <th>H_ps</th>\n",
       "      <th>2B_ps</th>\n",
       "      <th>3B_ps</th>\n",
       "      <th>HR_ps</th>\n",
       "      <th>RBI_ps</th>\n",
       "      <th>bSB_ps</th>\n",
       "      <th>BB_ps</th>\n",
       "      <th>SO_ps</th>\n",
       "      <th>fG</th>\n",
       "      <th>PO</th>\n",
       "      <th>A</th>\n",
       "      <th>E</th>\n",
       "      <th>DP</th>\n",
       "      <th>fSB</th>\n",
       "      <th>fCS</th>\n",
       "      <th>fG_ps</th>\n",
       "      <th>PO_ps</th>\n",
       "      <th>A_ps</th>\n",
       "      <th>E_ps</th>\n",
       "      <th>DP_ps</th>\n",
       "      <th>fSB_ps</th>\n",
       "      <th>fCS_ps</th>\n",
       "      <th>nu_sns</th>\n",
       "      <th>lst_sn</th>\n",
       "      <th>induct</th>\n",
       "      <th>position</th>\n",
       "      <th>AVG</th>\n",
       "      <th>OBP</th>\n",
       "    </tr>\n",
       "  </thead>\n",
       "  <tbody>\n",
       "    <tr>\n",
       "      <th>17</th>\n",
       "      <td>alomasa02</td>\n",
       "      <td>1377</td>\n",
       "      <td>4530</td>\n",
       "      <td>520</td>\n",
       "      <td>1236</td>\n",
       "      <td>249</td>\n",
       "      <td>10</td>\n",
       "      <td>112</td>\n",
       "      <td>588.0</td>\n",
       "      <td>25.0</td>\n",
       "      <td>212</td>\n",
       "      <td>499.0</td>\n",
       "      <td>49.0</td>\n",
       "      <td>173.0</td>\n",
       "      <td>17.0</td>\n",
       "      <td>37.0</td>\n",
       "      <td>9.0</td>\n",
       "      <td>1.0</td>\n",
       "      <td>5.0</td>\n",
       "      <td>28.0</td>\n",
       "      <td>0.0</td>\n",
       "      <td>7.0</td>\n",
       "      <td>26.0</td>\n",
       "      <td>1325</td>\n",
       "      <td>7667</td>\n",
       "      <td>464</td>\n",
       "      <td>86.0</td>\n",
       "      <td>72</td>\n",
       "      <td>758.0</td>\n",
       "      <td>328.0</td>\n",
       "      <td>49.0</td>\n",
       "      <td>337.0</td>\n",
       "      <td>15.0</td>\n",
       "      <td>7.0</td>\n",
       "      <td>1.0</td>\n",
       "      <td>0.0</td>\n",
       "      <td>0.0</td>\n",
       "      <td>20</td>\n",
       "      <td>2007</td>\n",
       "      <td>0</td>\n",
       "      <td>catcher</td>\n",
       "      <td>0.272848</td>\n",
       "      <td>0.308218</td>\n",
       "    </tr>\n",
       "    <tr>\n",
       "      <th>35</th>\n",
       "      <td>ashbyal01</td>\n",
       "      <td>1370</td>\n",
       "      <td>4123</td>\n",
       "      <td>397</td>\n",
       "      <td>1010</td>\n",
       "      <td>183</td>\n",
       "      <td>13</td>\n",
       "      <td>90</td>\n",
       "      <td>513.0</td>\n",
       "      <td>7.0</td>\n",
       "      <td>461</td>\n",
       "      <td>622.0</td>\n",
       "      <td>11.0</td>\n",
       "      <td>40.0</td>\n",
       "      <td>3.0</td>\n",
       "      <td>5.0</td>\n",
       "      <td>1.0</td>\n",
       "      <td>0.0</td>\n",
       "      <td>2.0</td>\n",
       "      <td>5.0</td>\n",
       "      <td>0.0</td>\n",
       "      <td>4.0</td>\n",
       "      <td>1.0</td>\n",
       "      <td>1305</td>\n",
       "      <td>7096</td>\n",
       "      <td>685</td>\n",
       "      <td>114.0</td>\n",
       "      <td>75</td>\n",
       "      <td>1112.0</td>\n",
       "      <td>445.0</td>\n",
       "      <td>11.0</td>\n",
       "      <td>94.0</td>\n",
       "      <td>5.0</td>\n",
       "      <td>0.0</td>\n",
       "      <td>0.0</td>\n",
       "      <td>0.0</td>\n",
       "      <td>0.0</td>\n",
       "      <td>17</td>\n",
       "      <td>1989</td>\n",
       "      <td>0</td>\n",
       "      <td>catcher</td>\n",
       "      <td>0.244967</td>\n",
       "      <td>0.318710</td>\n",
       "    </tr>\n",
       "    <tr>\n",
       "      <th>37</th>\n",
       "      <td>astrojo01</td>\n",
       "      <td>544</td>\n",
       "      <td>1579</td>\n",
       "      <td>163</td>\n",
       "      <td>401</td>\n",
       "      <td>51</td>\n",
       "      <td>10</td>\n",
       "      <td>13</td>\n",
       "      <td>156.0</td>\n",
       "      <td>6.0</td>\n",
       "      <td>177</td>\n",
       "      <td>124.0</td>\n",
       "      <td>0.0</td>\n",
       "      <td>0.0</td>\n",
       "      <td>0.0</td>\n",
       "      <td>0.0</td>\n",
       "      <td>0.0</td>\n",
       "      <td>0.0</td>\n",
       "      <td>0.0</td>\n",
       "      <td>0.0</td>\n",
       "      <td>0.0</td>\n",
       "      <td>0.0</td>\n",
       "      <td>0.0</td>\n",
       "      <td>511</td>\n",
       "      <td>2057</td>\n",
       "      <td>233</td>\n",
       "      <td>31.0</td>\n",
       "      <td>46</td>\n",
       "      <td>46.0</td>\n",
       "      <td>39.0</td>\n",
       "      <td>0.0</td>\n",
       "      <td>0.0</td>\n",
       "      <td>0.0</td>\n",
       "      <td>0.0</td>\n",
       "      <td>0.0</td>\n",
       "      <td>0.0</td>\n",
       "      <td>0.0</td>\n",
       "      <td>10</td>\n",
       "      <td>1956</td>\n",
       "      <td>0</td>\n",
       "      <td>catcher</td>\n",
       "      <td>0.253958</td>\n",
       "      <td>0.330726</td>\n",
       "    </tr>\n",
       "    <tr>\n",
       "      <th>40</th>\n",
       "      <td>ausmubr01</td>\n",
       "      <td>1971</td>\n",
       "      <td>6279</td>\n",
       "      <td>718</td>\n",
       "      <td>1579</td>\n",
       "      <td>270</td>\n",
       "      <td>34</td>\n",
       "      <td>80</td>\n",
       "      <td>607.0</td>\n",
       "      <td>102.0</td>\n",
       "      <td>634</td>\n",
       "      <td>1034.0</td>\n",
       "      <td>35.0</td>\n",
       "      <td>106.0</td>\n",
       "      <td>12.0</td>\n",
       "      <td>26.0</td>\n",
       "      <td>5.0</td>\n",
       "      <td>0.0</td>\n",
       "      <td>3.0</td>\n",
       "      <td>7.0</td>\n",
       "      <td>1.0</td>\n",
       "      <td>9.0</td>\n",
       "      <td>29.0</td>\n",
       "      <td>1960</td>\n",
       "      <td>12856</td>\n",
       "      <td>960</td>\n",
       "      <td>80.0</td>\n",
       "      <td>133</td>\n",
       "      <td>894.0</td>\n",
       "      <td>480.0</td>\n",
       "      <td>35.0</td>\n",
       "      <td>245.0</td>\n",
       "      <td>18.0</td>\n",
       "      <td>0.0</td>\n",
       "      <td>2.0</td>\n",
       "      <td>0.0</td>\n",
       "      <td>0.0</td>\n",
       "      <td>18</td>\n",
       "      <td>2010</td>\n",
       "      <td>0</td>\n",
       "      <td>catcher</td>\n",
       "      <td>0.251473</td>\n",
       "      <td>0.323046</td>\n",
       "    </tr>\n",
       "    <tr>\n",
       "      <th>43</th>\n",
       "      <td>azcuejo01</td>\n",
       "      <td>909</td>\n",
       "      <td>2828</td>\n",
       "      <td>201</td>\n",
       "      <td>712</td>\n",
       "      <td>94</td>\n",
       "      <td>9</td>\n",
       "      <td>50</td>\n",
       "      <td>304.0</td>\n",
       "      <td>5.0</td>\n",
       "      <td>207</td>\n",
       "      <td>344.0</td>\n",
       "      <td>0.0</td>\n",
       "      <td>0.0</td>\n",
       "      <td>0.0</td>\n",
       "      <td>0.0</td>\n",
       "      <td>0.0</td>\n",
       "      <td>0.0</td>\n",
       "      <td>0.0</td>\n",
       "      <td>0.0</td>\n",
       "      <td>0.0</td>\n",
       "      <td>0.0</td>\n",
       "      <td>0.0</td>\n",
       "      <td>868</td>\n",
       "      <td>5329</td>\n",
       "      <td>452</td>\n",
       "      <td>44.0</td>\n",
       "      <td>67</td>\n",
       "      <td>243.0</td>\n",
       "      <td>201.0</td>\n",
       "      <td>0.0</td>\n",
       "      <td>0.0</td>\n",
       "      <td>0.0</td>\n",
       "      <td>0.0</td>\n",
       "      <td>0.0</td>\n",
       "      <td>0.0</td>\n",
       "      <td>0.0</td>\n",
       "      <td>11</td>\n",
       "      <td>1972</td>\n",
       "      <td>0</td>\n",
       "      <td>catcher</td>\n",
       "      <td>0.251768</td>\n",
       "      <td>0.305583</td>\n",
       "    </tr>\n",
       "  </tbody>\n",
       "</table>\n",
       "</div>"
      ],
      "text/plain": [
       "     playerID    bG    AB    R     H   2B  3B   HR    RBI    bSB   BB      SO  \\\n",
       "17  alomasa02  1377  4530  520  1236  249  10  112  588.0   25.0  212   499.0   \n",
       "35  ashbyal01  1370  4123  397  1010  183  13   90  513.0    7.0  461   622.0   \n",
       "37  astrojo01   544  1579  163   401   51  10   13  156.0    6.0  177   124.0   \n",
       "40  ausmubr01  1971  6279  718  1579  270  34   80  607.0  102.0  634  1034.0   \n",
       "43  azcuejo01   909  2828  201   712   94   9   50  304.0    5.0  207   344.0   \n",
       "\n",
       "    bG_ps  AB_ps  R_ps  H_ps  2B_ps  3B_ps  HR_ps  RBI_ps  bSB_ps  BB_ps  \\\n",
       "17   49.0  173.0  17.0  37.0    9.0    1.0    5.0    28.0     0.0    7.0   \n",
       "35   11.0   40.0   3.0   5.0    1.0    0.0    2.0     5.0     0.0    4.0   \n",
       "37    0.0    0.0   0.0   0.0    0.0    0.0    0.0     0.0     0.0    0.0   \n",
       "40   35.0  106.0  12.0  26.0    5.0    0.0    3.0     7.0     1.0    9.0   \n",
       "43    0.0    0.0   0.0   0.0    0.0    0.0    0.0     0.0     0.0    0.0   \n",
       "\n",
       "    SO_ps    fG     PO    A      E   DP     fSB    fCS  fG_ps  PO_ps  A_ps  \\\n",
       "17   26.0  1325   7667  464   86.0   72   758.0  328.0   49.0  337.0  15.0   \n",
       "35    1.0  1305   7096  685  114.0   75  1112.0  445.0   11.0   94.0   5.0   \n",
       "37    0.0   511   2057  233   31.0   46    46.0   39.0    0.0    0.0   0.0   \n",
       "40   29.0  1960  12856  960   80.0  133   894.0  480.0   35.0  245.0  18.0   \n",
       "43    0.0   868   5329  452   44.0   67   243.0  201.0    0.0    0.0   0.0   \n",
       "\n",
       "    E_ps  DP_ps  fSB_ps  fCS_ps  nu_sns  lst_sn  induct position       AVG  \\\n",
       "17   7.0    1.0     0.0     0.0      20    2007       0  catcher  0.272848   \n",
       "35   0.0    0.0     0.0     0.0      17    1989       0  catcher  0.244967   \n",
       "37   0.0    0.0     0.0     0.0      10    1956       0  catcher  0.253958   \n",
       "40   0.0    2.0     0.0     0.0      18    2010       0  catcher  0.251473   \n",
       "43   0.0    0.0     0.0     0.0      11    1972       0  catcher  0.251768   \n",
       "\n",
       "         OBP  \n",
       "17  0.308218  \n",
       "35  0.318710  \n",
       "37  0.330726  \n",
       "40  0.323046  \n",
       "43  0.305583  "
      ]
     },
     "execution_count": 5,
     "metadata": {},
     "output_type": "execute_result"
    }
   ],
   "source": [
    "df.head()"
   ]
  },
  {
   "cell_type": "code",
   "execution_count": 6,
   "metadata": {},
   "outputs": [
    {
     "data": {
      "text/plain": [
       "0    227\n",
       "1     10\n",
       "Name: induct, dtype: int64"
      ]
     },
     "execution_count": 6,
     "metadata": {},
     "output_type": "execute_result"
    }
   ],
   "source": [
    "df['induct'].value_counts()"
   ]
  },
  {
   "cell_type": "code",
   "execution_count": 7,
   "metadata": {},
   "outputs": [
    {
     "data": {
      "text/plain": [
       "(237, 43)"
      ]
     },
     "execution_count": 7,
     "metadata": {},
     "output_type": "execute_result"
    }
   ],
   "source": [
    "df.shape"
   ]
  },
  {
   "cell_type": "code",
   "execution_count": 8,
   "metadata": {},
   "outputs": [],
   "source": [
    "# Create matrix of features\n",
    "X = df.drop(['induct', 'position', 'playerID'], axis = 1) \n",
    "\n",
    "# Create target variable\n",
    "y = df['induct']\n",
    "\n",
    "feature_cols = X.columns"
   ]
  },
  {
   "cell_type": "code",
   "execution_count": 9,
   "metadata": {},
   "outputs": [
    {
     "data": {
      "text/plain": [
       "(237, 40)"
      ]
     },
     "execution_count": 9,
     "metadata": {},
     "output_type": "execute_result"
    }
   ],
   "source": [
    "X.shape"
   ]
  },
  {
   "cell_type": "code",
   "execution_count": 10,
   "metadata": {},
   "outputs": [],
   "source": [
    "# Use x and y variables to split the training data into train and test set\n",
    "\n",
    "from sklearn.model_selection import train_test_split\n",
    "X_train, X_test, y_train, y_test = train_test_split(X, y, random_state=1,test_size=0.20)"
   ]
  },
  {
   "cell_type": "markdown",
   "metadata": {},
   "source": [
    "## Logistic Regression"
   ]
  },
  {
   "cell_type": "markdown",
   "metadata": {},
   "source": [
    "### W/ Class Imbalance"
   ]
  },
  {
   "cell_type": "code",
   "execution_count": 11,
   "metadata": {},
   "outputs": [
    {
     "name": "stdout",
     "output_type": "stream",
     "text": [
      "Test Accuracy score:  0.9791666666666666\n",
      "Test F1 score:  0.6666666666666666\n",
      "Train F1 Score:  1.0\n"
     ]
    }
   ],
   "source": [
    "from sklearn.linear_model import LogisticRegression\n",
    "\n",
    "lr_clf = LogisticRegression(solver='liblinear')\n",
    "\n",
    "lr_clf.fit(X_train, y_train)\n",
    "\n",
    "y_pred_test = lr_clf.predict(X_test)\n",
    "y_pred_train = lr_clf.predict(X_train)\n",
    "\n",
    "\n",
    "# checking accuracy\n",
    "print('Test Accuracy score: ', metrics.accuracy_score(y_test, y_pred_test))\n",
    "\n",
    "\n",
    "# checking accuracy\n",
    "print('Test F1 score: ', metrics.f1_score(y_test, y_pred_test))\n",
    "print('Train F1 Score: ', metrics.f1_score(y_train, y_pred_train))"
   ]
  },
  {
   "cell_type": "markdown",
   "metadata": {},
   "source": [
    "## Decision Tree"
   ]
  },
  {
   "cell_type": "code",
   "execution_count": 12,
   "metadata": {},
   "outputs": [],
   "source": [
    "clf = DecisionTreeClassifier()\n"
   ]
  },
  {
   "cell_type": "code",
   "execution_count": 13,
   "metadata": {},
   "outputs": [
    {
     "name": "stdout",
     "output_type": "stream",
     "text": [
      "Testing Accuracy Score: 0.9583333333333334\n",
      "Testing F1 Score: 0.6666666666666666\n"
     ]
    }
   ],
   "source": [
    "# Create Decision Tree classifer object\n",
    "clf = DecisionTreeClassifier()\n",
    "\n",
    "# Train Decision Tree Classifer\n",
    "clf = clf.fit(X_train,y_train)\n",
    "\n",
    "#predict the training set\n",
    "y_pred_train = clf.predict(X_train)\n",
    "\n",
    "#Predict the response for test dataset\n",
    "y_pred_test = clf.predict(X_test)\n",
    "\n",
    "# Model Accuracy, how often is the classifier correct?\n",
    "print(\"Testing Accuracy Score:\",metrics.accuracy_score(y_test, y_pred_test))\n",
    "print(\"Testing F1 Score:\",metrics.f1_score(y_test, y_pred_test))"
   ]
  },
  {
   "cell_type": "markdown",
   "metadata": {},
   "source": [
    "### GridsearchCV"
   ]
  },
  {
   "cell_type": "code",
   "execution_count": 14,
   "metadata": {},
   "outputs": [],
   "source": [
    "from sklearn.model_selection import GridSearchCV"
   ]
  },
  {
   "cell_type": "code",
   "execution_count": null,
   "metadata": {},
   "outputs": [],
   "source": []
  },
  {
   "cell_type": "code",
   "execution_count": 15,
   "metadata": {},
   "outputs": [],
   "source": [
    "#create a dictionary of all the parameters you want to tune\n",
    "param_grid = { \n",
    "    'max_features': [.25, .5, .75],\n",
    "    'max_depth' : [5, 10, 15],\n",
    "    'criterion' : ['gini','entropy']}"
   ]
  },
  {
   "cell_type": "code",
   "execution_count": 16,
   "metadata": {},
   "outputs": [],
   "source": [
    "clf_CV = DecisionTreeClassifier(random_state = 1, class_weight='balanced')"
   ]
  },
  {
   "cell_type": "code",
   "execution_count": 17,
   "metadata": {},
   "outputs": [
    {
     "name": "stdout",
     "output_type": "stream",
     "text": [
      "Fitting 7 folds for each of 18 candidates, totalling 126 fits\n"
     ]
    },
    {
     "name": "stderr",
     "output_type": "stream",
     "text": [
      "[Parallel(n_jobs=1)]: Using backend SequentialBackend with 1 concurrent workers.\n",
      "[Parallel(n_jobs=1)]: Done 126 out of 126 | elapsed:    1.4s finished\n"
     ]
    },
    {
     "data": {
      "text/plain": [
       "GridSearchCV(cv=7,\n",
       "             estimator=DecisionTreeClassifier(class_weight='balanced',\n",
       "                                              random_state=1),\n",
       "             n_jobs=1,\n",
       "             param_grid={'criterion': ['gini', 'entropy'],\n",
       "                         'max_depth': [5, 10, 15],\n",
       "                         'max_features': [0.25, 0.5, 0.75]},\n",
       "             scoring='f1', verbose=1)"
      ]
     },
     "execution_count": 17,
     "metadata": {},
     "output_type": "execute_result"
    }
   ],
   "source": [
    "#create a grid search object and fit it to the data\n",
    "\n",
    "clf_CV = GridSearchCV(estimator=clf_CV, param_grid= param_grid, cv=7, scoring='f1', verbose=1, n_jobs=1)\n",
    "clf_CV.fit(X_train, y_train)"
   ]
  },
  {
   "cell_type": "code",
   "execution_count": 18,
   "metadata": {},
   "outputs": [
    {
     "name": "stdout",
     "output_type": "stream",
     "text": [
      "{'criterion': 'gini', 'max_depth': 5, 'max_features': 0.5}\n",
      "DecisionTreeClassifier(class_weight='balanced', max_depth=5, max_features=0.5,\n",
      "                       random_state=1)\n",
      "0.5714285714285714\n"
     ]
    }
   ],
   "source": [
    "### Identify the best params \n",
    "print(clf_CV.best_params_)\n",
    "print(clf_CV.best_estimator_)\n",
    "\n",
    "\n",
    "#Identify the best score during fitting with cross-validation\n",
    "print(clf_CV.best_score_)\n"
   ]
  },
  {
   "cell_type": "code",
   "execution_count": 19,
   "metadata": {},
   "outputs": [
    {
     "name": "stdout",
     "output_type": "stream",
     "text": [
      "Accuracy: 0.9583333333333334\n",
      "F1: 0.5\n"
     ]
    }
   ],
   "source": [
    "#predict on the test set\n",
    "test_preds_clf_CV = clf_CV.best_estimator_.predict(X_test)\n",
    "\n",
    "# checking accuracy and F1\n",
    "print(\"Accuracy:\",metrics.accuracy_score(y_test, test_preds_clf_CV))\n",
    "print(\"F1:\",metrics.f1_score(y_test, test_preds_clf_CV))\n"
   ]
  },
  {
   "cell_type": "markdown",
   "metadata": {},
   "source": [
    "## Random Forest"
   ]
  },
  {
   "cell_type": "code",
   "execution_count": 20,
   "metadata": {},
   "outputs": [],
   "source": [
    "# Instantiate the classifier using 100 trees\n",
    "from sklearn.ensemble import RandomForestClassifier\n",
    "rfc = RandomForestClassifier(random_state = 1, n_estimators=100, max_depth=7, max_features=10)"
   ]
  },
  {
   "cell_type": "code",
   "execution_count": 21,
   "metadata": {},
   "outputs": [
    {
     "data": {
      "text/plain": [
       "RandomForestClassifier(max_depth=7, max_features=10, random_state=1)"
      ]
     },
     "execution_count": 21,
     "metadata": {},
     "output_type": "execute_result"
    }
   ],
   "source": [
    "#fit the model to the training data\n",
    "rfc.fit(X_train, y_train)"
   ]
  },
  {
   "cell_type": "code",
   "execution_count": 22,
   "metadata": {},
   "outputs": [
    {
     "name": "stdout",
     "output_type": "stream",
     "text": [
      "Test Accuracy score:  1.0\n",
      "Test F1 score:  1.0\n"
     ]
    }
   ],
   "source": [
    "#use the fitted model to predict on the test data\n",
    "rfc_preds = rfc.predict(X_test)\n",
    "rfc_train = rfc.predict(X_train)\n",
    "\n",
    "rfc_f1 = metrics.f1_score(y_test, rfc_preds)\n",
    "rfc_acc = metrics.accuracy_score(y_test, rfc_preds)\n",
    "train = metrics.f1_score(y_train, rfc_train)\n",
    "\n",
    "# checking accuracy on the test data\n",
    "print('Test Accuracy score: ', rfc_acc)\n",
    "print('Test F1 score: ', rfc_f1)\n"
   ]
  },
  {
   "cell_type": "markdown",
   "metadata": {},
   "source": [
    "# Infielders"
   ]
  },
  {
   "cell_type": "markdown",
   "metadata": {},
   "source": [
    "## Modeling"
   ]
  },
  {
   "cell_type": "code",
   "execution_count": 24,
   "metadata": {},
   "outputs": [],
   "source": [
    "#import dataframe\n",
    "df = pd.read_pickle('infielders-df_2020-08-19a.p')"
   ]
  },
  {
   "cell_type": "code",
   "execution_count": 25,
   "metadata": {
    "scrolled": true
   },
   "outputs": [],
   "source": [
    "df['AVG'] = df['H']/df['AB']\n",
    "df['OBP'] = (df['H'] + df['BB'] + df['HBP'])/(df['AB']+df['BB'] + df['HBP'] + df['SH'])"
   ]
  },
  {
   "cell_type": "code",
   "execution_count": 26,
   "metadata": {},
   "outputs": [],
   "source": [
    "df = df.drop(['bCS', 'SH', 'HBP', 'bCS_ps', 'SH_ps', 'HBP_ps', 'teamID'], axis=1)"
   ]
  },
  {
   "cell_type": "code",
   "execution_count": 27,
   "metadata": {},
   "outputs": [
    {
     "data": {
      "text/html": [
       "<div>\n",
       "<style scoped>\n",
       "    .dataframe tbody tr th:only-of-type {\n",
       "        vertical-align: middle;\n",
       "    }\n",
       "\n",
       "    .dataframe tbody tr th {\n",
       "        vertical-align: top;\n",
       "    }\n",
       "\n",
       "    .dataframe thead th {\n",
       "        text-align: right;\n",
       "    }\n",
       "</style>\n",
       "<table border=\"1\" class=\"dataframe\">\n",
       "  <thead>\n",
       "    <tr style=\"text-align: right;\">\n",
       "      <th></th>\n",
       "      <th>playerID</th>\n",
       "      <th>bG</th>\n",
       "      <th>AB</th>\n",
       "      <th>R</th>\n",
       "      <th>H</th>\n",
       "      <th>2B</th>\n",
       "      <th>3B</th>\n",
       "      <th>HR</th>\n",
       "      <th>RBI</th>\n",
       "      <th>bSB</th>\n",
       "      <th>BB</th>\n",
       "      <th>SO</th>\n",
       "      <th>bG_ps</th>\n",
       "      <th>AB_ps</th>\n",
       "      <th>R_ps</th>\n",
       "      <th>H_ps</th>\n",
       "      <th>2B_ps</th>\n",
       "      <th>3B_ps</th>\n",
       "      <th>HR_ps</th>\n",
       "      <th>RBI_ps</th>\n",
       "      <th>bSB_ps</th>\n",
       "      <th>BB_ps</th>\n",
       "      <th>SO_ps</th>\n",
       "      <th>fG</th>\n",
       "      <th>PO</th>\n",
       "      <th>A</th>\n",
       "      <th>E</th>\n",
       "      <th>DP</th>\n",
       "      <th>fG_ps</th>\n",
       "      <th>PO_ps</th>\n",
       "      <th>A_ps</th>\n",
       "      <th>E_ps</th>\n",
       "      <th>DP_ps</th>\n",
       "      <th>nu_sns</th>\n",
       "      <th>lst_sn</th>\n",
       "      <th>induct</th>\n",
       "      <th>position</th>\n",
       "      <th>AVG</th>\n",
       "      <th>OBP</th>\n",
       "    </tr>\n",
       "  </thead>\n",
       "  <tbody>\n",
       "    <tr>\n",
       "      <th>1</th>\n",
       "      <td>adairje01</td>\n",
       "      <td>1165</td>\n",
       "      <td>4019</td>\n",
       "      <td>378</td>\n",
       "      <td>1022</td>\n",
       "      <td>163</td>\n",
       "      <td>19</td>\n",
       "      <td>57</td>\n",
       "      <td>366.0</td>\n",
       "      <td>29.0</td>\n",
       "      <td>208</td>\n",
       "      <td>499.0</td>\n",
       "      <td>5.0</td>\n",
       "      <td>16.0</td>\n",
       "      <td>0.0</td>\n",
       "      <td>2.0</td>\n",
       "      <td>0.0</td>\n",
       "      <td>0.0</td>\n",
       "      <td>0.0</td>\n",
       "      <td>1.0</td>\n",
       "      <td>1.0</td>\n",
       "      <td>0.0</td>\n",
       "      <td>3.0</td>\n",
       "      <td>1167</td>\n",
       "      <td>2380</td>\n",
       "      <td>2878</td>\n",
       "      <td>103.0</td>\n",
       "      <td>618</td>\n",
       "      <td>4.0</td>\n",
       "      <td>7.0</td>\n",
       "      <td>12.0</td>\n",
       "      <td>0.0</td>\n",
       "      <td>1.0</td>\n",
       "      <td>13</td>\n",
       "      <td>1970</td>\n",
       "      <td>0</td>\n",
       "      <td>infielder</td>\n",
       "      <td>0.254292</td>\n",
       "      <td>0.291015</td>\n",
       "    </tr>\n",
       "    <tr>\n",
       "      <th>2</th>\n",
       "      <td>adamsbo03</td>\n",
       "      <td>1281</td>\n",
       "      <td>4019</td>\n",
       "      <td>591</td>\n",
       "      <td>1082</td>\n",
       "      <td>188</td>\n",
       "      <td>49</td>\n",
       "      <td>37</td>\n",
       "      <td>303.0</td>\n",
       "      <td>67.0</td>\n",
       "      <td>414</td>\n",
       "      <td>447.0</td>\n",
       "      <td>0.0</td>\n",
       "      <td>0.0</td>\n",
       "      <td>0.0</td>\n",
       "      <td>0.0</td>\n",
       "      <td>0.0</td>\n",
       "      <td>0.0</td>\n",
       "      <td>0.0</td>\n",
       "      <td>0.0</td>\n",
       "      <td>0.0</td>\n",
       "      <td>0.0</td>\n",
       "      <td>0.0</td>\n",
       "      <td>1066</td>\n",
       "      <td>1748</td>\n",
       "      <td>2262</td>\n",
       "      <td>158.0</td>\n",
       "      <td>371</td>\n",
       "      <td>0.0</td>\n",
       "      <td>0.0</td>\n",
       "      <td>0.0</td>\n",
       "      <td>0.0</td>\n",
       "      <td>0.0</td>\n",
       "      <td>14</td>\n",
       "      <td>1959</td>\n",
       "      <td>0</td>\n",
       "      <td>infielder</td>\n",
       "      <td>0.269221</td>\n",
       "      <td>0.334143</td>\n",
       "    </tr>\n",
       "    <tr>\n",
       "      <th>3</th>\n",
       "      <td>adcocjo01</td>\n",
       "      <td>1959</td>\n",
       "      <td>6606</td>\n",
       "      <td>823</td>\n",
       "      <td>1832</td>\n",
       "      <td>295</td>\n",
       "      <td>35</td>\n",
       "      <td>336</td>\n",
       "      <td>1122.0</td>\n",
       "      <td>20.0</td>\n",
       "      <td>594</td>\n",
       "      <td>1059.0</td>\n",
       "      <td>9.0</td>\n",
       "      <td>28.0</td>\n",
       "      <td>2.0</td>\n",
       "      <td>7.0</td>\n",
       "      <td>0.0</td>\n",
       "      <td>0.0</td>\n",
       "      <td>0.0</td>\n",
       "      <td>2.0</td>\n",
       "      <td>0.0</td>\n",
       "      <td>1.0</td>\n",
       "      <td>5.0</td>\n",
       "      <td>1811</td>\n",
       "      <td>13678</td>\n",
       "      <td>900</td>\n",
       "      <td>102.0</td>\n",
       "      <td>1234</td>\n",
       "      <td>8.0</td>\n",
       "      <td>61.0</td>\n",
       "      <td>4.0</td>\n",
       "      <td>1.0</td>\n",
       "      <td>2.0</td>\n",
       "      <td>17</td>\n",
       "      <td>1966</td>\n",
       "      <td>0</td>\n",
       "      <td>infielder</td>\n",
       "      <td>0.277324</td>\n",
       "      <td>0.336085</td>\n",
       "    </tr>\n",
       "    <tr>\n",
       "      <th>5</th>\n",
       "      <td>aguaylu01</td>\n",
       "      <td>568</td>\n",
       "      <td>1104</td>\n",
       "      <td>142</td>\n",
       "      <td>260</td>\n",
       "      <td>43</td>\n",
       "      <td>10</td>\n",
       "      <td>37</td>\n",
       "      <td>109.0</td>\n",
       "      <td>7.0</td>\n",
       "      <td>94</td>\n",
       "      <td>220.0</td>\n",
       "      <td>2.0</td>\n",
       "      <td>0.0</td>\n",
       "      <td>1.0</td>\n",
       "      <td>0.0</td>\n",
       "      <td>0.0</td>\n",
       "      <td>0.0</td>\n",
       "      <td>0.0</td>\n",
       "      <td>0.0</td>\n",
       "      <td>0.0</td>\n",
       "      <td>0.0</td>\n",
       "      <td>0.0</td>\n",
       "      <td>503</td>\n",
       "      <td>483</td>\n",
       "      <td>867</td>\n",
       "      <td>54.0</td>\n",
       "      <td>148</td>\n",
       "      <td>0.0</td>\n",
       "      <td>0.0</td>\n",
       "      <td>0.0</td>\n",
       "      <td>0.0</td>\n",
       "      <td>0.0</td>\n",
       "      <td>10</td>\n",
       "      <td>1989</td>\n",
       "      <td>0</td>\n",
       "      <td>infielder</td>\n",
       "      <td>0.235507</td>\n",
       "      <td>0.303571</td>\n",
       "    </tr>\n",
       "    <tr>\n",
       "      <th>7</th>\n",
       "      <td>alexama02</td>\n",
       "      <td>594</td>\n",
       "      <td>1271</td>\n",
       "      <td>166</td>\n",
       "      <td>293</td>\n",
       "      <td>50</td>\n",
       "      <td>12</td>\n",
       "      <td>15</td>\n",
       "      <td>115.0</td>\n",
       "      <td>37.0</td>\n",
       "      <td>86</td>\n",
       "      <td>276.0</td>\n",
       "      <td>5.0</td>\n",
       "      <td>5.0</td>\n",
       "      <td>2.0</td>\n",
       "      <td>0.0</td>\n",
       "      <td>0.0</td>\n",
       "      <td>0.0</td>\n",
       "      <td>0.0</td>\n",
       "      <td>0.0</td>\n",
       "      <td>0.0</td>\n",
       "      <td>0.0</td>\n",
       "      <td>1.0</td>\n",
       "      <td>534</td>\n",
       "      <td>499</td>\n",
       "      <td>858</td>\n",
       "      <td>53.0</td>\n",
       "      <td>161</td>\n",
       "      <td>1.0</td>\n",
       "      <td>2.0</td>\n",
       "      <td>2.0</td>\n",
       "      <td>0.0</td>\n",
       "      <td>0.0</td>\n",
       "      <td>11</td>\n",
       "      <td>2006</td>\n",
       "      <td>0</td>\n",
       "      <td>infielder</td>\n",
       "      <td>0.230527</td>\n",
       "      <td>0.279103</td>\n",
       "    </tr>\n",
       "  </tbody>\n",
       "</table>\n",
       "</div>"
      ],
      "text/plain": [
       "    playerID    bG    AB    R     H   2B  3B   HR     RBI   bSB   BB      SO  \\\n",
       "1  adairje01  1165  4019  378  1022  163  19   57   366.0  29.0  208   499.0   \n",
       "2  adamsbo03  1281  4019  591  1082  188  49   37   303.0  67.0  414   447.0   \n",
       "3  adcocjo01  1959  6606  823  1832  295  35  336  1122.0  20.0  594  1059.0   \n",
       "5  aguaylu01   568  1104  142   260   43  10   37   109.0   7.0   94   220.0   \n",
       "7  alexama02   594  1271  166   293   50  12   15   115.0  37.0   86   276.0   \n",
       "\n",
       "   bG_ps  AB_ps  R_ps  H_ps  2B_ps  3B_ps  HR_ps  RBI_ps  bSB_ps  BB_ps  \\\n",
       "1    5.0   16.0   0.0   2.0    0.0    0.0    0.0     1.0     1.0    0.0   \n",
       "2    0.0    0.0   0.0   0.0    0.0    0.0    0.0     0.0     0.0    0.0   \n",
       "3    9.0   28.0   2.0   7.0    0.0    0.0    0.0     2.0     0.0    1.0   \n",
       "5    2.0    0.0   1.0   0.0    0.0    0.0    0.0     0.0     0.0    0.0   \n",
       "7    5.0    5.0   2.0   0.0    0.0    0.0    0.0     0.0     0.0    0.0   \n",
       "\n",
       "   SO_ps    fG     PO     A      E    DP  fG_ps  PO_ps  A_ps  E_ps  DP_ps  \\\n",
       "1    3.0  1167   2380  2878  103.0   618    4.0    7.0  12.0   0.0    1.0   \n",
       "2    0.0  1066   1748  2262  158.0   371    0.0    0.0   0.0   0.0    0.0   \n",
       "3    5.0  1811  13678   900  102.0  1234    8.0   61.0   4.0   1.0    2.0   \n",
       "5    0.0   503    483   867   54.0   148    0.0    0.0   0.0   0.0    0.0   \n",
       "7    1.0   534    499   858   53.0   161    1.0    2.0   2.0   0.0    0.0   \n",
       "\n",
       "   nu_sns  lst_sn  induct   position       AVG       OBP  \n",
       "1      13    1970       0  infielder  0.254292  0.291015  \n",
       "2      14    1959       0  infielder  0.269221  0.334143  \n",
       "3      17    1966       0  infielder  0.277324  0.336085  \n",
       "5      10    1989       0  infielder  0.235507  0.303571  \n",
       "7      11    2006       0  infielder  0.230527  0.279103  "
      ]
     },
     "execution_count": 27,
     "metadata": {},
     "output_type": "execute_result"
    }
   ],
   "source": [
    "df.head()"
   ]
  },
  {
   "cell_type": "code",
   "execution_count": 28,
   "metadata": {},
   "outputs": [
    {
     "data": {
      "text/plain": [
       "0    590\n",
       "1     43\n",
       "Name: induct, dtype: int64"
      ]
     },
     "execution_count": 28,
     "metadata": {},
     "output_type": "execute_result"
    }
   ],
   "source": [
    "df['induct'].value_counts()"
   ]
  },
  {
   "cell_type": "code",
   "execution_count": 29,
   "metadata": {},
   "outputs": [
    {
     "data": {
      "text/plain": [
       "(633, 39)"
      ]
     },
     "execution_count": 29,
     "metadata": {},
     "output_type": "execute_result"
    }
   ],
   "source": [
    "df.shape"
   ]
  },
  {
   "cell_type": "code",
   "execution_count": 30,
   "metadata": {},
   "outputs": [],
   "source": [
    "# Create matrix of features\n",
    "X = df.drop(['induct', 'position', 'playerID'], axis = 1) \n",
    "\n",
    "# Create target variable\n",
    "y = df['induct']\n",
    "\n",
    "feature_cols = X.columns"
   ]
  },
  {
   "cell_type": "code",
   "execution_count": 31,
   "metadata": {},
   "outputs": [
    {
     "data": {
      "text/plain": [
       "(633, 36)"
      ]
     },
     "execution_count": 31,
     "metadata": {},
     "output_type": "execute_result"
    }
   ],
   "source": [
    "X.shape"
   ]
  },
  {
   "cell_type": "code",
   "execution_count": 32,
   "metadata": {},
   "outputs": [],
   "source": [
    "# Use x and y variables to split the training data into train and test set\n",
    "\n",
    "from sklearn.model_selection import train_test_split\n",
    "X_train, X_test, y_train, y_test = train_test_split(X, y, random_state=1,test_size=0.20)"
   ]
  },
  {
   "cell_type": "markdown",
   "metadata": {},
   "source": [
    "## Logistic Regression"
   ]
  },
  {
   "cell_type": "markdown",
   "metadata": {},
   "source": [
    "### W/ Class Imbalance"
   ]
  },
  {
   "cell_type": "code",
   "execution_count": 33,
   "metadata": {},
   "outputs": [
    {
     "name": "stdout",
     "output_type": "stream",
     "text": [
      "Test Accuracy score:  0.9291338582677166\n",
      "Test F1 score:  0.5263157894736842\n",
      "Train F1 Score:  0.90625\n"
     ]
    }
   ],
   "source": [
    "from sklearn.linear_model import LogisticRegression\n",
    "\n",
    "lr_clf = LogisticRegression(solver='liblinear')\n",
    "\n",
    "lr_clf.fit(X_train, y_train)\n",
    "\n",
    "y_pred_test = lr_clf.predict(X_test)\n",
    "y_pred_train = lr_clf.predict(X_train)\n",
    "\n",
    "\n",
    "# checking accuracy\n",
    "print('Test Accuracy score: ', metrics.accuracy_score(y_test, y_pred_test))\n",
    "\n",
    "\n",
    "# checking accuracy\n",
    "print('Test F1 score: ', metrics.f1_score(y_test, y_pred_test))\n",
    "print('Train F1 Score: ', metrics.f1_score(y_train, y_pred_train))"
   ]
  },
  {
   "cell_type": "markdown",
   "metadata": {},
   "source": [
    "## Decision Tree"
   ]
  },
  {
   "cell_type": "code",
   "execution_count": 34,
   "metadata": {},
   "outputs": [],
   "source": [
    "clf = DecisionTreeClassifier()\n"
   ]
  },
  {
   "cell_type": "code",
   "execution_count": 35,
   "metadata": {},
   "outputs": [
    {
     "name": "stdout",
     "output_type": "stream",
     "text": [
      "Testing Accuracy Score: 0.937007874015748\n",
      "Testing F1 Score: 0.5\n"
     ]
    }
   ],
   "source": [
    "# Create Decision Tree classifer object\n",
    "clf = DecisionTreeClassifier()\n",
    "\n",
    "# Train Decision Tree Classifer\n",
    "clf = clf.fit(X_train,y_train)\n",
    "\n",
    "#predict the training set\n",
    "y_pred_train = clf.predict(X_train)\n",
    "\n",
    "#Predict the response for test dataset\n",
    "y_pred_test = clf.predict(X_test)\n",
    "\n",
    "# Model Accuracy, how often is the classifier correct?\n",
    "print(\"Testing Accuracy Score:\",metrics.accuracy_score(y_test, y_pred_test))\n",
    "print(\"Testing F1 Score:\",metrics.f1_score(y_test, y_pred_test))"
   ]
  },
  {
   "cell_type": "markdown",
   "metadata": {},
   "source": [
    "### GridsearchCV"
   ]
  },
  {
   "cell_type": "code",
   "execution_count": 36,
   "metadata": {},
   "outputs": [],
   "source": [
    "from sklearn.model_selection import GridSearchCV"
   ]
  },
  {
   "cell_type": "code",
   "execution_count": null,
   "metadata": {},
   "outputs": [],
   "source": []
  },
  {
   "cell_type": "code",
   "execution_count": 37,
   "metadata": {},
   "outputs": [],
   "source": [
    "#create a dictionary of all the parameters you want to tune\n",
    "param_grid = { \n",
    "    'max_features': [.25, .5, .75],\n",
    "    'max_depth' : [5, 10, 15],\n",
    "    'criterion' : ['gini','entropy']}"
   ]
  },
  {
   "cell_type": "code",
   "execution_count": 38,
   "metadata": {},
   "outputs": [],
   "source": [
    "clf_CV = DecisionTreeClassifier(random_state = 1, class_weight='balanced')"
   ]
  },
  {
   "cell_type": "code",
   "execution_count": 39,
   "metadata": {},
   "outputs": [
    {
     "name": "stdout",
     "output_type": "stream",
     "text": [
      "Fitting 7 folds for each of 18 candidates, totalling 126 fits\n"
     ]
    },
    {
     "name": "stderr",
     "output_type": "stream",
     "text": [
      "[Parallel(n_jobs=1)]: Using backend SequentialBackend with 1 concurrent workers.\n",
      "[Parallel(n_jobs=1)]: Done 126 out of 126 | elapsed:    1.3s finished\n"
     ]
    },
    {
     "data": {
      "text/plain": [
       "GridSearchCV(cv=7,\n",
       "             estimator=DecisionTreeClassifier(class_weight='balanced',\n",
       "                                              random_state=1),\n",
       "             n_jobs=1,\n",
       "             param_grid={'criterion': ['gini', 'entropy'],\n",
       "                         'max_depth': [5, 10, 15],\n",
       "                         'max_features': [0.25, 0.5, 0.75]},\n",
       "             scoring='f1', verbose=1)"
      ]
     },
     "execution_count": 39,
     "metadata": {},
     "output_type": "execute_result"
    }
   ],
   "source": [
    "#create a grid search object and fit it to the data\n",
    "\n",
    "clf_CV = GridSearchCV(estimator=clf_CV, param_grid= param_grid, cv=7, scoring='f1', verbose=1, n_jobs=1)\n",
    "clf_CV.fit(X_train, y_train)"
   ]
  },
  {
   "cell_type": "code",
   "execution_count": 40,
   "metadata": {},
   "outputs": [
    {
     "name": "stdout",
     "output_type": "stream",
     "text": [
      "{'criterion': 'entropy', 'max_depth': 5, 'max_features': 0.25}\n",
      "DecisionTreeClassifier(class_weight='balanced', criterion='entropy',\n",
      "                       max_depth=5, max_features=0.25, random_state=1)\n",
      "0.5300889586603872\n"
     ]
    }
   ],
   "source": [
    "### Identify the best params \n",
    "print(clf_CV.best_params_)\n",
    "print(clf_CV.best_estimator_)\n",
    "\n",
    "\n",
    "#Identify the best score during fitting with cross-validation\n",
    "print(clf_CV.best_score_)\n"
   ]
  },
  {
   "cell_type": "code",
   "execution_count": 41,
   "metadata": {},
   "outputs": [
    {
     "name": "stdout",
     "output_type": "stream",
     "text": [
      "Accuracy: 0.905511811023622\n",
      "F1: 0.5\n"
     ]
    }
   ],
   "source": [
    "#predict on the test set\n",
    "test_preds_clf_CV = clf_CV.best_estimator_.predict(X_test)\n",
    "\n",
    "# checking accuracy and F1\n",
    "print(\"Accuracy:\",metrics.accuracy_score(y_test, test_preds_clf_CV))\n",
    "print(\"F1:\",metrics.f1_score(y_test, test_preds_clf_CV))\n"
   ]
  },
  {
   "cell_type": "markdown",
   "metadata": {},
   "source": [
    "## Random Forest"
   ]
  },
  {
   "cell_type": "code",
   "execution_count": 42,
   "metadata": {},
   "outputs": [],
   "source": [
    "# Instantiate the classifier using 100 trees\n",
    "from sklearn.ensemble import RandomForestClassifier\n",
    "rfc = RandomForestClassifier(random_state = 1, n_estimators=100, max_depth=7, max_features=10)"
   ]
  },
  {
   "cell_type": "code",
   "execution_count": 43,
   "metadata": {},
   "outputs": [
    {
     "data": {
      "text/plain": [
       "RandomForestClassifier(max_depth=7, max_features=10, random_state=1)"
      ]
     },
     "execution_count": 43,
     "metadata": {},
     "output_type": "execute_result"
    }
   ],
   "source": [
    "#fit the model to the training data\n",
    "rfc.fit(X_train, y_train)"
   ]
  },
  {
   "cell_type": "code",
   "execution_count": 44,
   "metadata": {},
   "outputs": [
    {
     "name": "stdout",
     "output_type": "stream",
     "text": [
      "Test Accuracy score:  0.9606299212598425\n",
      "Test F1 score:  0.6666666666666666\n"
     ]
    }
   ],
   "source": [
    "#use the fitted model to predict on the test data\n",
    "rfc_preds = rfc.predict(X_test)\n",
    "rfc_train = rfc.predict(X_train)\n",
    "\n",
    "rfc_f1 = metrics.f1_score(y_test, rfc_preds)\n",
    "rfc_acc = metrics.accuracy_score(y_test, rfc_preds)\n",
    "train = metrics.f1_score(y_train, rfc_train)\n",
    "\n",
    "# checking accuracy on the test data\n",
    "print('Test Accuracy score: ', rfc_acc)\n",
    "print('Test F1 score: ', rfc_f1)\n"
   ]
  },
  {
   "cell_type": "markdown",
   "metadata": {},
   "source": [
    "# Outfielders"
   ]
  },
  {
   "cell_type": "markdown",
   "metadata": {},
   "source": [
    "## Modeling"
   ]
  },
  {
   "cell_type": "code",
   "execution_count": 45,
   "metadata": {},
   "outputs": [],
   "source": [
    "#import dataframe\n",
    "df = pd.read_pickle('outfielders-df_2020-08-19a.p')"
   ]
  },
  {
   "cell_type": "code",
   "execution_count": 46,
   "metadata": {
    "scrolled": true
   },
   "outputs": [],
   "source": [
    "df['AVG'] = df['H']/df['AB']\n",
    "df['OBP'] = (df['H'] + df['BB'] + df['HBP'])/(df['AB']+df['BB'] + df['HBP'] + df['SH'])"
   ]
  },
  {
   "cell_type": "code",
   "execution_count": 47,
   "metadata": {},
   "outputs": [],
   "source": [
    "df = df.drop(['bCS', 'SH', 'HBP', 'bCS_ps', 'SH_ps', 'HBP_ps', 'teamID'], axis=1)"
   ]
  },
  {
   "cell_type": "code",
   "execution_count": 48,
   "metadata": {},
   "outputs": [
    {
     "data": {
      "text/html": [
       "<div>\n",
       "<style scoped>\n",
       "    .dataframe tbody tr th:only-of-type {\n",
       "        vertical-align: middle;\n",
       "    }\n",
       "\n",
       "    .dataframe tbody tr th {\n",
       "        vertical-align: top;\n",
       "    }\n",
       "\n",
       "    .dataframe thead th {\n",
       "        text-align: right;\n",
       "    }\n",
       "</style>\n",
       "<table border=\"1\" class=\"dataframe\">\n",
       "  <thead>\n",
       "    <tr style=\"text-align: right;\">\n",
       "      <th></th>\n",
       "      <th>playerID</th>\n",
       "      <th>bG</th>\n",
       "      <th>AB</th>\n",
       "      <th>R</th>\n",
       "      <th>H</th>\n",
       "      <th>2B</th>\n",
       "      <th>3B</th>\n",
       "      <th>HR</th>\n",
       "      <th>RBI</th>\n",
       "      <th>bSB</th>\n",
       "      <th>BB</th>\n",
       "      <th>SO</th>\n",
       "      <th>bG_ps</th>\n",
       "      <th>AB_ps</th>\n",
       "      <th>R_ps</th>\n",
       "      <th>H_ps</th>\n",
       "      <th>2B_ps</th>\n",
       "      <th>3B_ps</th>\n",
       "      <th>HR_ps</th>\n",
       "      <th>RBI_ps</th>\n",
       "      <th>bSB_ps</th>\n",
       "      <th>BB_ps</th>\n",
       "      <th>SO_ps</th>\n",
       "      <th>fG</th>\n",
       "      <th>PO</th>\n",
       "      <th>A</th>\n",
       "      <th>E</th>\n",
       "      <th>DP</th>\n",
       "      <th>fG_ps</th>\n",
       "      <th>PO_ps</th>\n",
       "      <th>A_ps</th>\n",
       "      <th>E_ps</th>\n",
       "      <th>DP_ps</th>\n",
       "      <th>nu_sns</th>\n",
       "      <th>lst_sn</th>\n",
       "      <th>induct</th>\n",
       "      <th>position</th>\n",
       "      <th>AVG</th>\n",
       "      <th>OBP</th>\n",
       "    </tr>\n",
       "  </thead>\n",
       "  <tbody>\n",
       "    <tr>\n",
       "      <th>0</th>\n",
       "      <td>aaronha01</td>\n",
       "      <td>3298</td>\n",
       "      <td>12364</td>\n",
       "      <td>2174</td>\n",
       "      <td>3771</td>\n",
       "      <td>624</td>\n",
       "      <td>98</td>\n",
       "      <td>755</td>\n",
       "      <td>2297.0</td>\n",
       "      <td>240.0</td>\n",
       "      <td>1402</td>\n",
       "      <td>1383.0</td>\n",
       "      <td>17.0</td>\n",
       "      <td>69.0</td>\n",
       "      <td>11.0</td>\n",
       "      <td>25.0</td>\n",
       "      <td>4.0</td>\n",
       "      <td>1.0</td>\n",
       "      <td>6.0</td>\n",
       "      <td>16.0</td>\n",
       "      <td>0.0</td>\n",
       "      <td>5.0</td>\n",
       "      <td>13.0</td>\n",
       "      <td>3020</td>\n",
       "      <td>7436</td>\n",
       "      <td>429</td>\n",
       "      <td>144.0</td>\n",
       "      <td>218</td>\n",
       "      <td>18.0</td>\n",
       "      <td>31.0</td>\n",
       "      <td>1.0</td>\n",
       "      <td>0.0</td>\n",
       "      <td>0.0</td>\n",
       "      <td>23</td>\n",
       "      <td>1976</td>\n",
       "      <td>1</td>\n",
       "      <td>outfielder</td>\n",
       "      <td>0.304998</td>\n",
       "      <td>0.376655</td>\n",
       "    </tr>\n",
       "    <tr>\n",
       "      <th>4</th>\n",
       "      <td>ageeto01</td>\n",
       "      <td>1129</td>\n",
       "      <td>3912</td>\n",
       "      <td>558</td>\n",
       "      <td>999</td>\n",
       "      <td>170</td>\n",
       "      <td>27</td>\n",
       "      <td>130</td>\n",
       "      <td>433.0</td>\n",
       "      <td>167.0</td>\n",
       "      <td>342</td>\n",
       "      <td>918.0</td>\n",
       "      <td>8.0</td>\n",
       "      <td>32.0</td>\n",
       "      <td>5.0</td>\n",
       "      <td>8.0</td>\n",
       "      <td>1.0</td>\n",
       "      <td>0.0</td>\n",
       "      <td>3.0</td>\n",
       "      <td>5.0</td>\n",
       "      <td>3.0</td>\n",
       "      <td>4.0</td>\n",
       "      <td>10.0</td>\n",
       "      <td>1073</td>\n",
       "      <td>2371</td>\n",
       "      <td>53</td>\n",
       "      <td>61.0</td>\n",
       "      <td>18</td>\n",
       "      <td>8.0</td>\n",
       "      <td>28.0</td>\n",
       "      <td>0.0</td>\n",
       "      <td>0.0</td>\n",
       "      <td>0.0</td>\n",
       "      <td>12</td>\n",
       "      <td>1973</td>\n",
       "      <td>0</td>\n",
       "      <td>outfielder</td>\n",
       "      <td>0.255368</td>\n",
       "      <td>0.319100</td>\n",
       "    </tr>\n",
       "    <tr>\n",
       "      <th>6</th>\n",
       "      <td>aldremi01</td>\n",
       "      <td>930</td>\n",
       "      <td>2147</td>\n",
       "      <td>277</td>\n",
       "      <td>565</td>\n",
       "      <td>104</td>\n",
       "      <td>9</td>\n",
       "      <td>41</td>\n",
       "      <td>271.0</td>\n",
       "      <td>19.0</td>\n",
       "      <td>314</td>\n",
       "      <td>381.0</td>\n",
       "      <td>8.0</td>\n",
       "      <td>11.0</td>\n",
       "      <td>0.0</td>\n",
       "      <td>1.0</td>\n",
       "      <td>0.0</td>\n",
       "      <td>0.0</td>\n",
       "      <td>0.0</td>\n",
       "      <td>1.0</td>\n",
       "      <td>0.0</td>\n",
       "      <td>0.0</td>\n",
       "      <td>2.0</td>\n",
       "      <td>696</td>\n",
       "      <td>2388</td>\n",
       "      <td>159</td>\n",
       "      <td>19.0</td>\n",
       "      <td>187</td>\n",
       "      <td>4.0</td>\n",
       "      <td>5.0</td>\n",
       "      <td>0.0</td>\n",
       "      <td>0.0</td>\n",
       "      <td>0.0</td>\n",
       "      <td>10</td>\n",
       "      <td>1996</td>\n",
       "      <td>0</td>\n",
       "      <td>outfielder</td>\n",
       "      <td>0.263158</td>\n",
       "      <td>0.356452</td>\n",
       "    </tr>\n",
       "    <tr>\n",
       "      <th>13</th>\n",
       "      <td>allisbo01</td>\n",
       "      <td>1541</td>\n",
       "      <td>5032</td>\n",
       "      <td>811</td>\n",
       "      <td>1281</td>\n",
       "      <td>216</td>\n",
       "      <td>53</td>\n",
       "      <td>256</td>\n",
       "      <td>796.0</td>\n",
       "      <td>84.0</td>\n",
       "      <td>795</td>\n",
       "      <td>1033.0</td>\n",
       "      <td>10.0</td>\n",
       "      <td>26.0</td>\n",
       "      <td>3.0</td>\n",
       "      <td>2.0</td>\n",
       "      <td>1.0</td>\n",
       "      <td>0.0</td>\n",
       "      <td>1.0</td>\n",
       "      <td>3.0</td>\n",
       "      <td>1.0</td>\n",
       "      <td>3.0</td>\n",
       "      <td>10.0</td>\n",
       "      <td>1465</td>\n",
       "      <td>3546</td>\n",
       "      <td>162</td>\n",
       "      <td>84.0</td>\n",
       "      <td>108</td>\n",
       "      <td>7.0</td>\n",
       "      <td>17.0</td>\n",
       "      <td>0.0</td>\n",
       "      <td>0.0</td>\n",
       "      <td>0.0</td>\n",
       "      <td>13</td>\n",
       "      <td>1970</td>\n",
       "      <td>0</td>\n",
       "      <td>outfielder</td>\n",
       "      <td>0.254571</td>\n",
       "      <td>0.358478</td>\n",
       "    </tr>\n",
       "    <tr>\n",
       "      <th>18</th>\n",
       "      <td>aloufe01</td>\n",
       "      <td>2082</td>\n",
       "      <td>7339</td>\n",
       "      <td>985</td>\n",
       "      <td>2101</td>\n",
       "      <td>359</td>\n",
       "      <td>49</td>\n",
       "      <td>206</td>\n",
       "      <td>852.0</td>\n",
       "      <td>107.0</td>\n",
       "      <td>423</td>\n",
       "      <td>706.0</td>\n",
       "      <td>8.0</td>\n",
       "      <td>27.0</td>\n",
       "      <td>2.0</td>\n",
       "      <td>7.0</td>\n",
       "      <td>1.0</td>\n",
       "      <td>1.0</td>\n",
       "      <td>0.0</td>\n",
       "      <td>1.0</td>\n",
       "      <td>0.0</td>\n",
       "      <td>1.0</td>\n",
       "      <td>4.0</td>\n",
       "      <td>2006</td>\n",
       "      <td>6537</td>\n",
       "      <td>322</td>\n",
       "      <td>96.0</td>\n",
       "      <td>330</td>\n",
       "      <td>7.0</td>\n",
       "      <td>9.0</td>\n",
       "      <td>0.0</td>\n",
       "      <td>1.0</td>\n",
       "      <td>0.0</td>\n",
       "      <td>17</td>\n",
       "      <td>1974</td>\n",
       "      <td>0</td>\n",
       "      <td>outfielder</td>\n",
       "      <td>0.286279</td>\n",
       "      <td>0.328706</td>\n",
       "    </tr>\n",
       "  </tbody>\n",
       "</table>\n",
       "</div>"
      ],
      "text/plain": [
       "     playerID    bG     AB     R     H   2B  3B   HR     RBI    bSB    BB  \\\n",
       "0   aaronha01  3298  12364  2174  3771  624  98  755  2297.0  240.0  1402   \n",
       "4    ageeto01  1129   3912   558   999  170  27  130   433.0  167.0   342   \n",
       "6   aldremi01   930   2147   277   565  104   9   41   271.0   19.0   314   \n",
       "13  allisbo01  1541   5032   811  1281  216  53  256   796.0   84.0   795   \n",
       "18   aloufe01  2082   7339   985  2101  359  49  206   852.0  107.0   423   \n",
       "\n",
       "        SO  bG_ps  AB_ps  R_ps  H_ps  2B_ps  3B_ps  HR_ps  RBI_ps  bSB_ps  \\\n",
       "0   1383.0   17.0   69.0  11.0  25.0    4.0    1.0    6.0    16.0     0.0   \n",
       "4    918.0    8.0   32.0   5.0   8.0    1.0    0.0    3.0     5.0     3.0   \n",
       "6    381.0    8.0   11.0   0.0   1.0    0.0    0.0    0.0     1.0     0.0   \n",
       "13  1033.0   10.0   26.0   3.0   2.0    1.0    0.0    1.0     3.0     1.0   \n",
       "18   706.0    8.0   27.0   2.0   7.0    1.0    1.0    0.0     1.0     0.0   \n",
       "\n",
       "    BB_ps  SO_ps    fG    PO    A      E   DP  fG_ps  PO_ps  A_ps  E_ps  \\\n",
       "0     5.0   13.0  3020  7436  429  144.0  218   18.0   31.0   1.0   0.0   \n",
       "4     4.0   10.0  1073  2371   53   61.0   18    8.0   28.0   0.0   0.0   \n",
       "6     0.0    2.0   696  2388  159   19.0  187    4.0    5.0   0.0   0.0   \n",
       "13    3.0   10.0  1465  3546  162   84.0  108    7.0   17.0   0.0   0.0   \n",
       "18    1.0    4.0  2006  6537  322   96.0  330    7.0    9.0   0.0   1.0   \n",
       "\n",
       "    DP_ps  nu_sns  lst_sn  induct    position       AVG       OBP  \n",
       "0     0.0      23    1976       1  outfielder  0.304998  0.376655  \n",
       "4     0.0      12    1973       0  outfielder  0.255368  0.319100  \n",
       "6     0.0      10    1996       0  outfielder  0.263158  0.356452  \n",
       "13    0.0      13    1970       0  outfielder  0.254571  0.358478  \n",
       "18    0.0      17    1974       0  outfielder  0.286279  0.328706  "
      ]
     },
     "execution_count": 48,
     "metadata": {},
     "output_type": "execute_result"
    }
   ],
   "source": [
    "df.head()"
   ]
  },
  {
   "cell_type": "code",
   "execution_count": 49,
   "metadata": {},
   "outputs": [
    {
     "data": {
      "text/plain": [
       "0    459\n",
       "1     30\n",
       "Name: induct, dtype: int64"
      ]
     },
     "execution_count": 49,
     "metadata": {},
     "output_type": "execute_result"
    }
   ],
   "source": [
    "df['induct'].value_counts()"
   ]
  },
  {
   "cell_type": "code",
   "execution_count": 50,
   "metadata": {},
   "outputs": [
    {
     "data": {
      "text/plain": [
       "(489, 39)"
      ]
     },
     "execution_count": 50,
     "metadata": {},
     "output_type": "execute_result"
    }
   ],
   "source": [
    "df.shape"
   ]
  },
  {
   "cell_type": "code",
   "execution_count": 51,
   "metadata": {},
   "outputs": [],
   "source": [
    "# Create matrix of features\n",
    "X = df.drop(['induct', 'position', 'playerID'], axis = 1) \n",
    "\n",
    "# Create target variable\n",
    "y = df['induct']\n",
    "\n",
    "feature_cols = X.columns"
   ]
  },
  {
   "cell_type": "code",
   "execution_count": 52,
   "metadata": {},
   "outputs": [
    {
     "data": {
      "text/plain": [
       "(489, 36)"
      ]
     },
     "execution_count": 52,
     "metadata": {},
     "output_type": "execute_result"
    }
   ],
   "source": [
    "X.shape"
   ]
  },
  {
   "cell_type": "code",
   "execution_count": 53,
   "metadata": {},
   "outputs": [],
   "source": [
    "# Use x and y variables to split the training data into train and test set\n",
    "\n",
    "from sklearn.model_selection import train_test_split\n",
    "X_train, X_test, y_train, y_test = train_test_split(X, y, random_state=1,test_size=0.20)"
   ]
  },
  {
   "cell_type": "markdown",
   "metadata": {},
   "source": [
    "## Logistic Regression"
   ]
  },
  {
   "cell_type": "markdown",
   "metadata": {},
   "source": [
    "### W/ Class Imbalance"
   ]
  },
  {
   "cell_type": "code",
   "execution_count": 54,
   "metadata": {},
   "outputs": [
    {
     "name": "stdout",
     "output_type": "stream",
     "text": [
      "Test Accuracy score:  0.9489795918367347\n",
      "Test F1 score:  0.28571428571428575\n",
      "Train F1 Score:  1.0\n"
     ]
    }
   ],
   "source": [
    "from sklearn.linear_model import LogisticRegression\n",
    "\n",
    "lr_clf = LogisticRegression(solver='liblinear')\n",
    "\n",
    "lr_clf.fit(X_train, y_train)\n",
    "\n",
    "y_pred_test = lr_clf.predict(X_test)\n",
    "y_pred_train = lr_clf.predict(X_train)\n",
    "\n",
    "\n",
    "# checking accuracy\n",
    "print('Test Accuracy score: ', metrics.accuracy_score(y_test, y_pred_test))\n",
    "\n",
    "\n",
    "# checking accuracy\n",
    "print('Test F1 score: ', metrics.f1_score(y_test, y_pred_test))\n",
    "print('Train F1 Score: ', metrics.f1_score(y_train, y_pred_train))"
   ]
  },
  {
   "cell_type": "markdown",
   "metadata": {},
   "source": [
    "## Decision Tree"
   ]
  },
  {
   "cell_type": "code",
   "execution_count": 55,
   "metadata": {},
   "outputs": [],
   "source": [
    "clf = DecisionTreeClassifier()\n"
   ]
  },
  {
   "cell_type": "code",
   "execution_count": 56,
   "metadata": {},
   "outputs": [
    {
     "name": "stdout",
     "output_type": "stream",
     "text": [
      "Testing Accuracy Score: 0.9693877551020408\n",
      "Testing F1 Score: 0.5714285714285715\n"
     ]
    }
   ],
   "source": [
    "# Create Decision Tree classifer object\n",
    "clf = DecisionTreeClassifier()\n",
    "\n",
    "# Train Decision Tree Classifer\n",
    "clf = clf.fit(X_train,y_train)\n",
    "\n",
    "#predict the training set\n",
    "y_pred_train = clf.predict(X_train)\n",
    "\n",
    "#Predict the response for test dataset\n",
    "y_pred_test = clf.predict(X_test)\n",
    "\n",
    "# Model Accuracy, how often is the classifier correct?\n",
    "print(\"Testing Accuracy Score:\",metrics.accuracy_score(y_test, y_pred_test))\n",
    "print(\"Testing F1 Score:\",metrics.f1_score(y_test, y_pred_test))"
   ]
  },
  {
   "cell_type": "markdown",
   "metadata": {},
   "source": [
    "### GridsearchCV"
   ]
  },
  {
   "cell_type": "code",
   "execution_count": 57,
   "metadata": {},
   "outputs": [],
   "source": [
    "from sklearn.model_selection import GridSearchCV"
   ]
  },
  {
   "cell_type": "code",
   "execution_count": null,
   "metadata": {},
   "outputs": [],
   "source": []
  },
  {
   "cell_type": "code",
   "execution_count": 58,
   "metadata": {},
   "outputs": [],
   "source": [
    "#create a dictionary of all the parameters you want to tune\n",
    "param_grid = { \n",
    "    'max_features': [.25, .5, .75],\n",
    "    'max_depth' : [5, 10, 15],\n",
    "    'criterion' : ['gini','entropy']}"
   ]
  },
  {
   "cell_type": "code",
   "execution_count": 59,
   "metadata": {},
   "outputs": [],
   "source": [
    "clf_CV = DecisionTreeClassifier(random_state = 1, class_weight='balanced')"
   ]
  },
  {
   "cell_type": "code",
   "execution_count": 60,
   "metadata": {},
   "outputs": [
    {
     "name": "stdout",
     "output_type": "stream",
     "text": [
      "Fitting 7 folds for each of 18 candidates, totalling 126 fits\n"
     ]
    },
    {
     "name": "stderr",
     "output_type": "stream",
     "text": [
      "[Parallel(n_jobs=1)]: Using backend SequentialBackend with 1 concurrent workers.\n",
      "[Parallel(n_jobs=1)]: Done 126 out of 126 | elapsed:    1.2s finished\n"
     ]
    },
    {
     "data": {
      "text/plain": [
       "GridSearchCV(cv=7,\n",
       "             estimator=DecisionTreeClassifier(class_weight='balanced',\n",
       "                                              random_state=1),\n",
       "             n_jobs=1,\n",
       "             param_grid={'criterion': ['gini', 'entropy'],\n",
       "                         'max_depth': [5, 10, 15],\n",
       "                         'max_features': [0.25, 0.5, 0.75]},\n",
       "             scoring='f1', verbose=1)"
      ]
     },
     "execution_count": 60,
     "metadata": {},
     "output_type": "execute_result"
    }
   ],
   "source": [
    "#create a grid search object and fit it to the data\n",
    "\n",
    "clf_CV = GridSearchCV(estimator=clf_CV, param_grid= param_grid, cv=7, scoring='f1', verbose=1, n_jobs=1)\n",
    "clf_CV.fit(X_train, y_train)"
   ]
  },
  {
   "cell_type": "code",
   "execution_count": 61,
   "metadata": {},
   "outputs": [
    {
     "name": "stdout",
     "output_type": "stream",
     "text": [
      "{'criterion': 'entropy', 'max_depth': 5, 'max_features': 0.25}\n",
      "DecisionTreeClassifier(class_weight='balanced', criterion='entropy',\n",
      "                       max_depth=5, max_features=0.25, random_state=1)\n",
      "0.648886827458256\n"
     ]
    }
   ],
   "source": [
    "### Identify the best params \n",
    "print(clf_CV.best_params_)\n",
    "print(clf_CV.best_estimator_)\n",
    "\n",
    "\n",
    "#Identify the best score during fitting with cross-validation\n",
    "print(clf_CV.best_score_)\n"
   ]
  },
  {
   "cell_type": "code",
   "execution_count": 62,
   "metadata": {},
   "outputs": [
    {
     "name": "stdout",
     "output_type": "stream",
     "text": [
      "Accuracy: 0.9591836734693877\n",
      "F1: 0.5\n"
     ]
    }
   ],
   "source": [
    "#predict on the test set\n",
    "test_preds_clf_CV = clf_CV.best_estimator_.predict(X_test)\n",
    "\n",
    "# checking accuracy and F1\n",
    "print(\"Accuracy:\",metrics.accuracy_score(y_test, test_preds_clf_CV))\n",
    "print(\"F1:\",metrics.f1_score(y_test, test_preds_clf_CV))\n"
   ]
  },
  {
   "cell_type": "markdown",
   "metadata": {},
   "source": [
    "## Random Forest"
   ]
  },
  {
   "cell_type": "code",
   "execution_count": 63,
   "metadata": {},
   "outputs": [],
   "source": [
    "# Instantiate the classifier using 100 trees\n",
    "from sklearn.ensemble import RandomForestClassifier\n",
    "rfc = RandomForestClassifier(random_state = 1, n_estimators=100, max_depth=7, max_features=10)"
   ]
  },
  {
   "cell_type": "code",
   "execution_count": 64,
   "metadata": {},
   "outputs": [
    {
     "data": {
      "text/plain": [
       "RandomForestClassifier(max_depth=7, max_features=10, random_state=1)"
      ]
     },
     "execution_count": 64,
     "metadata": {},
     "output_type": "execute_result"
    }
   ],
   "source": [
    "#fit the model to the training data\n",
    "rfc.fit(X_train, y_train)"
   ]
  },
  {
   "cell_type": "code",
   "execution_count": 65,
   "metadata": {},
   "outputs": [
    {
     "name": "stdout",
     "output_type": "stream",
     "text": [
      "Test Accuracy score:  0.9897959183673469\n",
      "Test F1 score:  0.8\n"
     ]
    }
   ],
   "source": [
    "#use the fitted model to predict on the test data\n",
    "rfc_preds = rfc.predict(X_test)\n",
    "rfc_train = rfc.predict(X_train)\n",
    "\n",
    "rfc_f1 = metrics.f1_score(y_test, rfc_preds)\n",
    "rfc_acc = metrics.accuracy_score(y_test, rfc_preds)\n",
    "train = metrics.f1_score(y_train, rfc_train)\n",
    "\n",
    "# checking accuracy on the test data\n",
    "print('Test Accuracy score: ', rfc_acc)\n",
    "print('Test F1 score: ', rfc_f1)\n"
   ]
  },
  {
   "cell_type": "code",
   "execution_count": 23,
   "metadata": {},
   "outputs": [],
   "source": []
  },
  {
   "cell_type": "code",
   "execution_count": null,
   "metadata": {},
   "outputs": [],
   "source": []
  }
 ],
 "metadata": {
  "kernelspec": {
   "display_name": "Python 3",
   "language": "python",
   "name": "python3"
  },
  "language_info": {
   "codemirror_mode": {
    "name": "ipython",
    "version": 3
   },
   "file_extension": ".py",
   "mimetype": "text/x-python",
   "name": "python",
   "nbconvert_exporter": "python",
   "pygments_lexer": "ipython3",
   "version": "3.7.6"
  }
 },
 "nbformat": 4,
 "nbformat_minor": 2
}
